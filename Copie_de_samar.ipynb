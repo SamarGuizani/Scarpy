{
  "nbformat": 4,
  "nbformat_minor": 0,
  "metadata": {
    "colab": {
      "provenance": [],
      "include_colab_link": true
    },
    "kernelspec": {
      "name": "python3",
      "display_name": "Python 3"
    },
    "language_info": {
      "name": "python"
    }
  },
  "cells": [
    {
      "cell_type": "markdown",
      "metadata": {
        "id": "view-in-github",
        "colab_type": "text"
      },
      "source": [
        "<a href=\"https://colab.research.google.com/github/SamarGuizani/Scarpy/blob/main/Copie_de_samar.ipynb\" target=\"_parent\"><img src=\"https://colab.research.google.com/assets/colab-badge.svg\" alt=\"Open In Colab\"/></a>"
      ]
    },
    {
      "cell_type": "code",
      "source": [
        "!pip install scrapy"
      ],
      "metadata": {
        "colab": {
          "base_uri": "https://localhost:8080/"
        },
        "id": "FfaLYfcBWoiw",
        "outputId": "4e36b708-64f6-4fae-db6b-0f60ca41af38"
      },
      "execution_count": null,
      "outputs": [
        {
          "output_type": "stream",
          "name": "stdout",
          "text": [
            "Collecting scrapy\n",
            "  Downloading Scrapy-2.12.0-py2.py3-none-any.whl.metadata (5.3 kB)\n",
            "Collecting Twisted>=21.7.0 (from scrapy)\n",
            "  Downloading twisted-24.11.0-py3-none-any.whl.metadata (20 kB)\n",
            "Requirement already satisfied: cryptography>=37.0.0 in /usr/local/lib/python3.11/dist-packages (from scrapy) (43.0.3)\n",
            "Collecting cssselect>=0.9.1 (from scrapy)\n",
            "  Downloading cssselect-1.2.0-py2.py3-none-any.whl.metadata (2.2 kB)\n",
            "Collecting itemloaders>=1.0.1 (from scrapy)\n",
            "  Downloading itemloaders-1.3.2-py3-none-any.whl.metadata (3.9 kB)\n",
            "Collecting parsel>=1.5.0 (from scrapy)\n",
            "  Downloading parsel-1.10.0-py2.py3-none-any.whl.metadata (11 kB)\n",
            "Requirement already satisfied: pyOpenSSL>=22.0.0 in /usr/local/lib/python3.11/dist-packages (from scrapy) (24.2.1)\n",
            "Collecting queuelib>=1.4.2 (from scrapy)\n",
            "  Downloading queuelib-1.7.0-py2.py3-none-any.whl.metadata (5.7 kB)\n",
            "Collecting service-identity>=18.1.0 (from scrapy)\n",
            "  Downloading service_identity-24.2.0-py3-none-any.whl.metadata (5.1 kB)\n",
            "Collecting w3lib>=1.17.0 (from scrapy)\n",
            "  Downloading w3lib-2.3.1-py3-none-any.whl.metadata (2.3 kB)\n",
            "Collecting zope.interface>=5.1.0 (from scrapy)\n",
            "  Downloading zope.interface-7.2-cp311-cp311-manylinux_2_5_x86_64.manylinux1_x86_64.manylinux_2_17_x86_64.manylinux2014_x86_64.whl.metadata (44 kB)\n",
            "\u001b[2K     \u001b[90m━━━━━━━━━━━━━━━━━━━━━━━━━━━━━━━━━━━━━━━━\u001b[0m \u001b[32m44.4/44.4 kB\u001b[0m \u001b[31m1.3 MB/s\u001b[0m eta \u001b[36m0:00:00\u001b[0m\n",
            "\u001b[?25hCollecting protego>=0.1.15 (from scrapy)\n",
            "  Downloading Protego-0.4.0-py2.py3-none-any.whl.metadata (6.2 kB)\n",
            "Collecting itemadapter>=0.1.0 (from scrapy)\n",
            "  Downloading itemadapter-0.11.0-py3-none-any.whl.metadata (18 kB)\n",
            "Requirement already satisfied: packaging in /usr/local/lib/python3.11/dist-packages (from scrapy) (24.2)\n",
            "Collecting tldextract (from scrapy)\n",
            "  Downloading tldextract-5.1.3-py3-none-any.whl.metadata (11 kB)\n",
            "Requirement already satisfied: lxml>=4.6.0 in /usr/local/lib/python3.11/dist-packages (from scrapy) (5.3.1)\n",
            "Requirement already satisfied: defusedxml>=0.7.1 in /usr/local/lib/python3.11/dist-packages (from scrapy) (0.7.1)\n",
            "Collecting PyDispatcher>=2.0.5 (from scrapy)\n",
            "  Downloading PyDispatcher-2.0.7-py3-none-any.whl.metadata (2.4 kB)\n",
            "Requirement already satisfied: cffi>=1.12 in /usr/local/lib/python3.11/dist-packages (from cryptography>=37.0.0->scrapy) (1.17.1)\n",
            "Collecting jmespath>=0.9.5 (from itemloaders>=1.0.1->scrapy)\n",
            "  Downloading jmespath-1.0.1-py3-none-any.whl.metadata (7.6 kB)\n",
            "Requirement already satisfied: attrs>=19.1.0 in /usr/local/lib/python3.11/dist-packages (from service-identity>=18.1.0->scrapy) (25.1.0)\n",
            "Requirement already satisfied: pyasn1 in /usr/local/lib/python3.11/dist-packages (from service-identity>=18.1.0->scrapy) (0.6.1)\n",
            "Requirement already satisfied: pyasn1-modules in /usr/local/lib/python3.11/dist-packages (from service-identity>=18.1.0->scrapy) (0.4.1)\n",
            "Collecting automat>=24.8.0 (from Twisted>=21.7.0->scrapy)\n",
            "  Downloading Automat-24.8.1-py3-none-any.whl.metadata (8.4 kB)\n",
            "Collecting constantly>=15.1 (from Twisted>=21.7.0->scrapy)\n",
            "  Downloading constantly-23.10.4-py3-none-any.whl.metadata (1.8 kB)\n",
            "Collecting hyperlink>=17.1.1 (from Twisted>=21.7.0->scrapy)\n",
            "  Downloading hyperlink-21.0.0-py2.py3-none-any.whl.metadata (1.5 kB)\n",
            "Collecting incremental>=24.7.0 (from Twisted>=21.7.0->scrapy)\n",
            "  Downloading incremental-24.7.2-py3-none-any.whl.metadata (8.1 kB)\n",
            "Requirement already satisfied: typing-extensions>=4.2.0 in /usr/local/lib/python3.11/dist-packages (from Twisted>=21.7.0->scrapy) (4.12.2)\n",
            "Requirement already satisfied: setuptools in /usr/local/lib/python3.11/dist-packages (from zope.interface>=5.1.0->scrapy) (75.1.0)\n",
            "Requirement already satisfied: idna in /usr/local/lib/python3.11/dist-packages (from tldextract->scrapy) (3.10)\n",
            "Requirement already satisfied: requests>=2.1.0 in /usr/local/lib/python3.11/dist-packages (from tldextract->scrapy) (2.32.3)\n",
            "Collecting requests-file>=1.4 (from tldextract->scrapy)\n",
            "  Downloading requests_file-2.1.0-py2.py3-none-any.whl.metadata (1.7 kB)\n",
            "Requirement already satisfied: filelock>=3.0.8 in /usr/local/lib/python3.11/dist-packages (from tldextract->scrapy) (3.17.0)\n",
            "Requirement already satisfied: pycparser in /usr/local/lib/python3.11/dist-packages (from cffi>=1.12->cryptography>=37.0.0->scrapy) (2.22)\n",
            "Requirement already satisfied: charset-normalizer<4,>=2 in /usr/local/lib/python3.11/dist-packages (from requests>=2.1.0->tldextract->scrapy) (3.4.1)\n",
            "Requirement already satisfied: urllib3<3,>=1.21.1 in /usr/local/lib/python3.11/dist-packages (from requests>=2.1.0->tldextract->scrapy) (2.3.0)\n",
            "Requirement already satisfied: certifi>=2017.4.17 in /usr/local/lib/python3.11/dist-packages (from requests>=2.1.0->tldextract->scrapy) (2025.1.31)\n",
            "Downloading Scrapy-2.12.0-py2.py3-none-any.whl (311 kB)\n",
            "\u001b[2K   \u001b[90m━━━━━━━━━━━━━━━━━━━━━━━━━━━━━━━━━━━━━━━━\u001b[0m \u001b[32m311.2/311.2 kB\u001b[0m \u001b[31m3.0 MB/s\u001b[0m eta \u001b[36m0:00:00\u001b[0m\n",
            "\u001b[?25hDownloading cssselect-1.2.0-py2.py3-none-any.whl (18 kB)\n",
            "Downloading itemadapter-0.11.0-py3-none-any.whl (11 kB)\n",
            "Downloading itemloaders-1.3.2-py3-none-any.whl (12 kB)\n",
            "Downloading parsel-1.10.0-py2.py3-none-any.whl (17 kB)\n",
            "Downloading Protego-0.4.0-py2.py3-none-any.whl (8.6 kB)\n",
            "Downloading PyDispatcher-2.0.7-py3-none-any.whl (12 kB)\n",
            "Downloading queuelib-1.7.0-py2.py3-none-any.whl (13 kB)\n",
            "Downloading service_identity-24.2.0-py3-none-any.whl (11 kB)\n",
            "Downloading twisted-24.11.0-py3-none-any.whl (3.2 MB)\n",
            "\u001b[2K   \u001b[90m━━━━━━━━━━━━━━━━━━━━━━━━━━━━━━━━━━━━━━━━\u001b[0m \u001b[32m3.2/3.2 MB\u001b[0m \u001b[31m49.3 MB/s\u001b[0m eta \u001b[36m0:00:00\u001b[0m\n",
            "\u001b[?25hDownloading w3lib-2.3.1-py3-none-any.whl (21 kB)\n",
            "Downloading zope.interface-7.2-cp311-cp311-manylinux_2_5_x86_64.manylinux1_x86_64.manylinux_2_17_x86_64.manylinux2014_x86_64.whl (259 kB)\n",
            "\u001b[2K   \u001b[90m━━━━━━━━━━━━━━━━━━━━━━━━━━━━━━━━━━━━━━━━\u001b[0m \u001b[32m259.8/259.8 kB\u001b[0m \u001b[31m17.2 MB/s\u001b[0m eta \u001b[36m0:00:00\u001b[0m\n",
            "\u001b[?25hDownloading tldextract-5.1.3-py3-none-any.whl (104 kB)\n",
            "\u001b[2K   \u001b[90m━━━━━━━━━━━━━━━━━━━━━━━━━━━━━━━━━━━━━━━━\u001b[0m \u001b[32m104.9/104.9 kB\u001b[0m \u001b[31m7.5 MB/s\u001b[0m eta \u001b[36m0:00:00\u001b[0m\n",
            "\u001b[?25hDownloading Automat-24.8.1-py3-none-any.whl (42 kB)\n",
            "\u001b[2K   \u001b[90m━━━━━━━━━━━━━━━━━━━━━━━━━━━━━━━━━━━━━━━━\u001b[0m \u001b[32m42.6/42.6 kB\u001b[0m \u001b[31m3.0 MB/s\u001b[0m eta \u001b[36m0:00:00\u001b[0m\n",
            "\u001b[?25hDownloading constantly-23.10.4-py3-none-any.whl (13 kB)\n",
            "Downloading hyperlink-21.0.0-py2.py3-none-any.whl (74 kB)\n",
            "\u001b[2K   \u001b[90m━━━━━━━━━━━━━━━━━━━━━━━━━━━━━━━━━━━━━━━━\u001b[0m \u001b[32m74.6/74.6 kB\u001b[0m \u001b[31m5.4 MB/s\u001b[0m eta \u001b[36m0:00:00\u001b[0m\n",
            "\u001b[?25hDownloading incremental-24.7.2-py3-none-any.whl (20 kB)\n",
            "Downloading jmespath-1.0.1-py3-none-any.whl (20 kB)\n",
            "Downloading requests_file-2.1.0-py2.py3-none-any.whl (4.2 kB)\n",
            "Installing collected packages: PyDispatcher, zope.interface, w3lib, queuelib, protego, jmespath, itemadapter, incremental, hyperlink, cssselect, constantly, automat, Twisted, requests-file, parsel, tldextract, service-identity, itemloaders, scrapy\n",
            "Successfully installed PyDispatcher-2.0.7 Twisted-24.11.0 automat-24.8.1 constantly-23.10.4 cssselect-1.2.0 hyperlink-21.0.0 incremental-24.7.2 itemadapter-0.11.0 itemloaders-1.3.2 jmespath-1.0.1 parsel-1.10.0 protego-0.4.0 queuelib-1.7.0 requests-file-2.1.0 scrapy-2.12.0 service-identity-24.2.0 tldextract-5.1.3 w3lib-2.3.1 zope.interface-7.2\n"
          ]
        }
      ]
    },
    {
      "cell_type": "markdown",
      "source": [],
      "metadata": {
        "id": "b7dSfkCHOYx_"
      }
    },
    {
      "cell_type": "code",
      "execution_count": null,
      "metadata": {
        "colab": {
          "base_uri": "https://localhost:8080/"
        },
        "id": "MLFhBqeeWJSq",
        "outputId": "304cee0f-5f4c-4058-af30-33f2e12025b3"
      },
      "outputs": [
        {
          "output_type": "stream",
          "name": "stdout",
          "text": [
            "New Scrapy project 'capricieusescraper', using template directory '/usr/local/lib/python3.11/dist-packages/scrapy/templates/project', created in:\n",
            "    /content/capricieusescraper\n",
            "\n",
            "You can start your first spider with:\n",
            "    cd capricieusescraper\n",
            "    scrapy genspider example example.com\n"
          ]
        }
      ],
      "source": [
        "!scrapy startproject capricieusescraper\n"
      ]
    },
    {
      "cell_type": "code",
      "source": [
        "!scrapy genspider capricieusescraper/capricieusescraper/spiders/capricieusespider capricieuse.tn\n"
      ],
      "metadata": {
        "colab": {
          "base_uri": "https://localhost:8080/"
        },
        "id": "5i0Nh2nLWu8t",
        "outputId": "b5e207d6-c8f6-4195-8191-f7a1176b3b22"
      },
      "execution_count": null,
      "outputs": [
        {
          "output_type": "stream",
          "name": "stdout",
          "text": [
            "Created spider 'capricieusescraper/capricieusescraper/spiders/capricieusespider' using template 'basic' \n"
          ]
        }
      ]
    },
    {
      "cell_type": "code",
      "source": [
        "!scrapy shell"
      ],
      "metadata": {
        "colab": {
          "base_uri": "https://localhost:8080/"
        },
        "id": "F_abK_5IW-mR",
        "outputId": "d21c7787-fe62-4e5c-dbf9-5a5609dbe66c"
      },
      "execution_count": null,
      "outputs": [
        {
          "output_type": "stream",
          "name": "stdout",
          "text": [
            "2025-02-15 16:06:06 [scrapy.utils.log] INFO: Scrapy 2.12.0 started (bot: scrapybot)\n",
            "2025-02-15 16:06:06 [scrapy.utils.log] INFO: Versions: lxml 5.3.1.0, libxml2 2.12.9, cssselect 1.2.0, parsel 1.10.0, w3lib 2.3.1, Twisted 24.11.0, Python 3.11.11 (main, Dec  4 2024, 08:55:07) [GCC 11.4.0], pyOpenSSL 24.2.1 (OpenSSL 3.3.2 3 Sep 2024), cryptography 43.0.3, Platform Linux-6.1.85+-x86_64-with-glibc2.35\n",
            "2025-02-15 16:06:06 [scrapy.addons] INFO: Enabled addons:\n",
            "[]\n",
            "2025-02-15 16:06:06 [scrapy.utils.log] DEBUG: Using reactor: twisted.internet.epollreactor.EPollReactor\n",
            "2025-02-15 16:06:06 [scrapy.extensions.telnet] INFO: Telnet Password: 7bf2d10e3e4ea97d\n",
            "2025-02-15 16:06:06 [scrapy.middleware] INFO: Enabled extensions:\n",
            "['scrapy.extensions.corestats.CoreStats',\n",
            " 'scrapy.extensions.telnet.TelnetConsole',\n",
            " 'scrapy.extensions.memusage.MemoryUsage']\n",
            "2025-02-15 16:06:06 [scrapy.crawler] INFO: Overridden settings:\n",
            "{'DUPEFILTER_CLASS': 'scrapy.dupefilters.BaseDupeFilter',\n",
            " 'LOGSTATS_INTERVAL': 0}\n",
            "2025-02-15 16:06:07 [scrapy.middleware] INFO: Enabled downloader middlewares:\n",
            "['scrapy.downloadermiddlewares.offsite.OffsiteMiddleware',\n",
            " 'scrapy.downloadermiddlewares.httpauth.HttpAuthMiddleware',\n",
            " 'scrapy.downloadermiddlewares.downloadtimeout.DownloadTimeoutMiddleware',\n",
            " 'scrapy.downloadermiddlewares.defaultheaders.DefaultHeadersMiddleware',\n",
            " 'scrapy.downloadermiddlewares.useragent.UserAgentMiddleware',\n",
            " 'scrapy.downloadermiddlewares.retry.RetryMiddleware',\n",
            " 'scrapy.downloadermiddlewares.redirect.MetaRefreshMiddleware',\n",
            " 'scrapy.downloadermiddlewares.httpcompression.HttpCompressionMiddleware',\n",
            " 'scrapy.downloadermiddlewares.redirect.RedirectMiddleware',\n",
            " 'scrapy.downloadermiddlewares.cookies.CookiesMiddleware',\n",
            " 'scrapy.downloadermiddlewares.httpproxy.HttpProxyMiddleware',\n",
            " 'scrapy.downloadermiddlewares.stats.DownloaderStats']\n",
            "2025-02-15 16:06:07 [scrapy.middleware] INFO: Enabled spider middlewares:\n",
            "['scrapy.spidermiddlewares.httperror.HttpErrorMiddleware',\n",
            " 'scrapy.spidermiddlewares.referer.RefererMiddleware',\n",
            " 'scrapy.spidermiddlewares.urllength.UrlLengthMiddleware',\n",
            " 'scrapy.spidermiddlewares.depth.DepthMiddleware']\n",
            "2025-02-15 16:06:07 [scrapy.middleware] INFO: Enabled item pipelines:\n",
            "[]\n",
            "2025-02-15 16:06:07 [scrapy.extensions.telnet] INFO: Telnet console listening on 127.0.0.1:6023\n",
            "2025-02-15 16:06:07 [asyncio] DEBUG: Using selector: EpollSelector\n",
            "\u001b[?12l\u001b[?25h[s] Available Scrapy objects:\n",
            "[s]   scrapy     scrapy module (contains scrapy.Request, scrapy.Selector, etc)\n",
            "[s]   crawler    <scrapy.crawler.Crawler object at 0xf05c90a5150>\n",
            "[s]   item       {}\n",
            "[s]   settings   <scrapy.settings.Settings object at 0xf05c8890c90>\n",
            "[s] Useful shortcuts:\n",
            "[s]   fetch(url[, redirect=True]) Fetch URL and update local objects (by default, redirects are followed)\n",
            "[s]   fetch(req)                  Fetch a scrapy.Request and update local objects \n",
            "[s]   shelp()           Shell help (print this help)\n",
            "[s]   view(response)    View response in a browser\n",
            "2025-02-15 16:06:07 [asyncio] DEBUG: Using selector: EpollSelector\n",
            "\u001b[6n\u001b[?2004h\u001b[?1l\u001b[?25l\u001b[0m\u001b[?7l\u001b[0m\u001b[J\u001b[0;38;5;28mIn [\u001b[0;92;1m1\u001b[0;38;5;28m]: \u001b[8D\u001b[8C\u001b[?7h\u001b[0m\u001b[?12l\u001b[?25h\u001b[8D\u001b[J\u001b[0m\u001b[?7h\u001b[?2004lWARNING: your terminal doesn't support cursor position requests (CPR).\n",
            "\u001b[?2004h\u001b[?25l\u001b[0m\u001b[?7l\u001b[0m\u001b[J\u001b[0;38;5;28mIn [\u001b[0;92;1m1\u001b[0;38;5;28m]: \u001b[8D\u001b[8C\u001b[?7h\u001b[0m\u001b[?12l\u001b[?25h\u001b[?25l\u001b[?7l\u001b[0mfetch(\u001b[0;38;5;130m'http://www.capricieuse.tn/product-categories/Robes'\u001b[0m)\u001b[?7h\u001b[0m\u001b[?12l\u001b[?25h\u001b[?25l\u001b[?7l\u001b[67D\u001b[0m\u001b[J\u001b[0;38;5;28mIn [\u001b[0;92;1m1\u001b[0;38;5;28m]: \u001b[0mfetch(\u001b[0;38;5;130m'http://www.capricieuse.tn/product-categories/Robes'\u001b[0m)\u001b[67D\u001b[0m\n",
            "\u001b[J\u001b[?7h\u001b[0m\u001b[?12l\u001b[?25h\u001b[?2004l2025-02-15 16:06:24 [scrapy.core.engine] INFO: Spider opened\n",
            "2025-02-15 16:06:25 [urllib3.connectionpool] DEBUG: Starting new HTTPS connection (1): publicsuffix.org:443\n",
            "2025-02-15 16:06:25 [urllib3.connectionpool] DEBUG: https://publicsuffix.org:443 \"GET /list/public_suffix_list.dat HTTP/1.1\" 200 86565\n",
            "2025-02-15 16:06:25 [scrapy.core.engine] DEBUG: Crawled (200) <GET http://www.capricieuse.tn/product-categories/Robes> (referer: None)\n",
            "\n",
            "\u001b[?2004h\u001b[?25l\u001b[0m\u001b[?7l\u001b[0m\u001b[J\u001b[0;38;5;28mIn [\u001b[0;92;1m2\u001b[0;38;5;28m]: \u001b[8D\u001b[8C\u001b[?7h\u001b[0m\u001b[?12l\u001b[?25h\u001b[?25l\u001b[?7l\u001b[8D\u001b[0m\u001b[J\u001b[0;38;5;28mIn [\u001b[0;92;1m2\u001b[0;38;5;28m]: \u001b[0mresponse.css(\u001b[0;38;5;130m'div.product'\u001b[0m)\u001b[35D\u001b[0m\n",
            "\u001b[J\u001b[?7h\u001b[0m\u001b[?12l\u001b[?25h\u001b[?2004l\u001b[0m\u001b[?7h\u001b[0;38;5;88mOut[\u001b[0;91;1m2\u001b[0;38;5;88m]: \u001b[0m\u001b[0m\n",
            "[<Selector query=\"descendant-or-self::div[@class and contains(concat(' ', normalize-space(@class), ' '), ' product ')]\" data='<div class=\"product\">\\n        <div cl...'>,\n",
            " <Selector query=\"descendant-or-self::div[@class and contains(concat(' ', normalize-space(@class), ' '), ' product ')]\" data='<div class=\"product\">\\n        <div cl...'>,\n",
            " <Selector query=\"descendant-or-self::div[@class and contains(concat(' ', normalize-space(@class), ' '), ' product ')]\" data='<div class=\"product\">\\n        <div cl...'>,\n",
            " <Selector query=\"descendant-or-self::div[@class and contains(concat(' ', normalize-space(@class), ' '), ' product ')]\" data='<div class=\"product\">\\n        <div cl...'>,\n",
            " <Selector query=\"descendant-or-self::div[@class and contains(concat(' ', normalize-space(@class), ' '), ' product ')]\" data='<div class=\"product\">\\n        <div cl...'>,\n",
            " <Selector query=\"descendant-or-self::div[@class and contains(concat(' ', normalize-space(@class), ' '), ' product ')]\" data='<div class=\"product\">\\n        <div cl...'>,\n",
            " <Selector query=\"descendant-or-self::div[@class and contains(concat(' ', normalize-space(@class), ' '), ' product ')]\" data='<div class=\"product\">\\n        <div cl...'>,\n",
            " <Selector query=\"descendant-or-self::div[@class and contains(concat(' ', normalize-space(@class), ' '), ' product ')]\" data='<div class=\"product\">\\n        <div cl...'>,\n",
            " <Selector query=\"descendant-or-self::div[@class and contains(concat(' ', normalize-space(@class), ' '), ' product ')]\" data='<div class=\"product\">\\n        <div cl...'>,\n",
            " <Selector query=\"descendant-or-self::div[@class and contains(concat(' ', normalize-space(@class), ' '), ' product ')]\" data='<div class=\"product\">\\n        <div cl...'>,\n",
            " <Selector query=\"descendant-or-self::div[@class and contains(concat(' ', normalize-space(@class), ' '), ' product ')]\" data='<div class=\"product\">\\n        <div cl...'>,\n",
            " <Selector query=\"descendant-or-self::div[@class and contains(concat(' ', normalize-space(@class), ' '), ' product ')]\" data='<div class=\"product\">\\n        <div cl...'>]\n",
            "\n",
            "\u001b[?2004h\u001b[?25l\u001b[0m\u001b[?7l\u001b[0m\u001b[J\u001b[0;38;5;28mIn [\u001b[0;92;1m3\u001b[0;38;5;28m]: \u001b[8D\u001b[8C\u001b[?7h\u001b[0m\u001b[?12l\u001b[?25h\u001b[?25l\u001b[?7l\u001b[8D\u001b[0m\u001b[J\u001b[0;38;5;28mIn [\u001b[0;92;1m3\u001b[0;38;5;28m]: \u001b[0mresponse.css(\u001b[0;38;5;130m'a.product__title::text'\u001b[0m).getall()\u001b[55D\u001b[0m\n",
            "\u001b[J\u001b[?7h\u001b[0m\u001b[?12l\u001b[?25h\u001b[?2004l\u001b[0m\u001b[?7h\u001b[0;38;5;88mOut[\u001b[0;91;1m3\u001b[0;38;5;88m]: \u001b[0m\u001b[0m\n",
            "['Robe Djean Bleu',\n",
            " 'Robe Djean Noir',\n",
            " 'Robe FLORA Rose Poudrée',\n",
            " 'Robe Riza Bleu Ciel',\n",
            " 'Robe Riza Noir',\n",
            " 'Robe Riza Vert Kiwi',\n",
            " 'Robe Brown',\n",
            " 'Robe Deux Pièces Sparkle Noir',\n",
            " 'Robe Deux Pièces Sparkle Rose Poudré',\n",
            " 'Robe Deux Pièces Sparkle Beige',\n",
            " 'Robe Deux Pièces Sparkle Bleu Pastel',\n",
            " 'Robe Laine Mira Noir']\n",
            "\n",
            "\u001b[?2004h\u001b[?25l\u001b[0m\u001b[?7l\u001b[0m\u001b[J\u001b[0;38;5;28mIn [\u001b[0;92;1m4\u001b[0;38;5;28m]: \u001b[8D\u001b[8C\u001b[?7h\u001b[0m\u001b[?12l\u001b[?25h\u001b[?25l\u001b[?7l\u001b[8D\u001b[0m\u001b[J\u001b[0;38;5;28mIn [\u001b[0;92;1m4\u001b[0;38;5;28m]: \u001b[0mresponse.css(\u001b[0;38;5;130m'p.product__price span::text'\u001b[0m).getall()\u001b[60D\u001b[0m\n",
            "\u001b[J\u001b[?7h\u001b[0m\u001b[?12l\u001b[?25h\u001b[?2004l\u001b[0m\u001b[?7h\u001b[0;38;5;88mOut[\u001b[0;91;1m4\u001b[0;38;5;88m]: \u001b[0m\u001b[0m\n",
            "['175.000Dt',\n",
            " '175.000Dt',\n",
            " '95.000Dt',\n",
            " '120.000Dt',\n",
            " '120.000Dt',\n",
            " '120.000Dt',\n",
            " '95.000Dt',\n",
            " '180.000Dt',\n",
            " '180.000Dt',\n",
            " '180.000Dt',\n",
            " '160.000Dt',\n",
            " '130.000Dt']\n",
            "\n",
            "\u001b[?2004h\u001b[?25l\u001b[0m\u001b[?7l\u001b[0m\u001b[J\u001b[0;38;5;28mIn [\u001b[0;92;1m5\u001b[0;38;5;28m]: \u001b[8D\u001b[8C\u001b[?7h\u001b[0m\u001b[?12l\u001b[?25h\u001b[?25l\u001b[?7l\u001b[0mresponse.css(\u001b[0;38;5;130m'div.rating_wrap span.rating_num::text'\u001b[0m).getall()\u001b[?7h\u001b[0m\u001b[?12l\u001b[?25h\u001b[?25l\u001b[?7l\u001b[70D\u001b[0m\u001b[J\u001b[0;38;5;28mIn [\u001b[0;92;1m5\u001b[0;38;5;28m]: \u001b[0mresponse.css(\u001b[0;38;5;130m'div.rating_wrap span.rating_num::text'\u001b[0m).getall()\u001b[70D\u001b[0m\n",
            "\u001b[J\u001b[?7h\u001b[0m\u001b[?12l\u001b[?25h\u001b[?2004l\u001b[0m\u001b[?7h\u001b[0;38;5;88mOut[\u001b[0;91;1m5\u001b[0;38;5;88m]: \u001b[0m\u001b[0m\n",
            "['(0)',\n",
            " '(0)',\n",
            " '(0)',\n",
            " '(0)',\n",
            " '(0)',\n",
            " '(0)',\n",
            " '(0)',\n",
            " '(0)',\n",
            " '(0)',\n",
            " '(0)',\n",
            " '(0)',\n",
            " '(0)']\n",
            "\n",
            "\u001b[?2004h\u001b[?25l\u001b[0m\u001b[?7l\u001b[0m\u001b[J\u001b[0;38;5;28mIn [\u001b[0;92;1m6\u001b[0;38;5;28m]: \u001b[8D\u001b[8C\u001b[?7h\u001b[0m\u001b[?12l\u001b[?25h\u001b[?25l\u001b[?7l\u001b[?7h\u001b[0m\u001b[?12l\u001b[?25h\u001b[?25l\u001b[?7l\u001b[8D\u001b[0m\u001b[J\u001b[0;38;5;28mIn [\u001b[0;92;1m6\u001b[0;38;5;28m]: \u001b[0mexit\u001b[12D\u001b[0m\n",
            "\u001b[J\u001b[?7h\u001b[0m\u001b[?12l\u001b[?25h\u001b[?2004l\n"
          ]
        }
      ]
    },
    {
      "cell_type": "code",
      "source": [
        "%cd /content/capricieusescraper/capricieusescraper/spiders"
      ],
      "metadata": {
        "id": "Gx9MwThzZJd7",
        "outputId": "2fc6a4e1-dece-4f92-bfd0-f4d77be1ed8b",
        "colab": {
          "base_uri": "https://localhost:8080/"
        }
      },
      "execution_count": null,
      "outputs": [
        {
          "output_type": "stream",
          "name": "stdout",
          "text": [
            "/content/capricieusescraper/capricieusescraper/spiders\n"
          ]
        }
      ]
    },
    {
      "cell_type": "code",
      "source": [
        "%%writefile capricieusespider.py\n",
        "\n",
        "import scrapy\n",
        "\n",
        "class capricieusespider(scrapy.Spider):\n",
        "    name = 'capricieusescraper'\n",
        "    start_urls = ['http://www.capricieuse.tn/product-categories/Robes']\n",
        "\n",
        "    def parse(self, response):\n",
        "        # Extract product information\n",
        "        titles = response.css('a.product__title::text').getall()\n",
        "        prices = response.css('p.product__price span::text').getall()\n",
        "\n",
        "        # Combine the extracted data into a dictionary\n",
        "        for title, price in zip(titles, prices):\n",
        "            yield {\n",
        "                'title': title.strip(),\n",
        "                'price': price.strip(),\n",
        "            }\n",
        "\n",
        "        # Handle pagination\n",
        "        next_page = response.css('a[rel=\"next\"]::attr(href)').get()\n",
        "        if next_page:\n",
        "            yield response.follow(next_page, self.parse)\n"
      ],
      "metadata": {
        "colab": {
          "base_uri": "https://localhost:8080/"
        },
        "id": "sIeC9n-gYYBb",
        "outputId": "55f2f0f4-6e4c-445b-8126-b9013c22c340"
      },
      "execution_count": null,
      "outputs": [
        {
          "output_type": "stream",
          "name": "stdout",
          "text": [
            "Overwriting capricieusespider.py\n"
          ]
        }
      ]
    },
    {
      "cell_type": "code",
      "source": [
        "%cd /content/capricieusescraper/capricieusescraper/spiders\n"
      ],
      "metadata": {
        "colab": {
          "base_uri": "https://localhost:8080/"
        },
        "id": "JQSC-PSzZNpz",
        "outputId": "76abd4c8-2299-4390-ea80-591d19a0ae8d"
      },
      "execution_count": null,
      "outputs": [
        {
          "output_type": "stream",
          "name": "stdout",
          "text": [
            "/content/capricieusescraper/capricieusescraper/spiders\n"
          ]
        }
      ]
    },
    {
      "cell_type": "code",
      "source": [
        "!scrapy crawl capricieusescraper -o capricieuse.json\n"
      ],
      "metadata": {
        "colab": {
          "base_uri": "https://localhost:8080/"
        },
        "id": "AcBv9Q0waKwf",
        "outputId": "28dc0434-b193-48a0-aae4-905041bae2c4"
      },
      "execution_count": null,
      "outputs": [
        {
          "output_type": "stream",
          "name": "stdout",
          "text": [
            "2025-02-15 21:09:50 [scrapy.utils.log] INFO: Scrapy 2.12.0 started (bot: capricieusescraper)\n",
            "2025-02-15 21:09:50 [scrapy.utils.log] INFO: Versions: lxml 5.3.1.0, libxml2 2.12.9, cssselect 1.2.0, parsel 1.10.0, w3lib 2.3.1, Twisted 24.11.0, Python 3.11.11 (main, Dec  4 2024, 08:55:07) [GCC 11.4.0], pyOpenSSL 24.2.1 (OpenSSL 3.3.2 3 Sep 2024), cryptography 43.0.3, Platform Linux-6.1.85+-x86_64-with-glibc2.35\n",
            "2025-02-15 21:09:50 [scrapy.addons] INFO: Enabled addons:\n",
            "[]\n",
            "2025-02-15 21:09:50 [asyncio] DEBUG: Using selector: EpollSelector\n",
            "2025-02-15 21:09:50 [scrapy.utils.log] DEBUG: Using reactor: twisted.internet.asyncioreactor.AsyncioSelectorReactor\n",
            "2025-02-15 21:09:50 [scrapy.utils.log] DEBUG: Using asyncio event loop: asyncio.unix_events._UnixSelectorEventLoop\n",
            "2025-02-15 21:09:50 [scrapy.utils.log] DEBUG: Using reactor: twisted.internet.asyncioreactor.AsyncioSelectorReactor\n",
            "2025-02-15 21:09:50 [scrapy.utils.log] DEBUG: Using asyncio event loop: asyncio.unix_events._UnixSelectorEventLoop\n",
            "2025-02-15 21:09:50 [scrapy.extensions.telnet] INFO: Telnet Password: c4f3cb0322892802\n",
            "2025-02-15 21:09:50 [scrapy.middleware] INFO: Enabled extensions:\n",
            "['scrapy.extensions.corestats.CoreStats',\n",
            " 'scrapy.extensions.telnet.TelnetConsole',\n",
            " 'scrapy.extensions.memusage.MemoryUsage',\n",
            " 'scrapy.extensions.feedexport.FeedExporter',\n",
            " 'scrapy.extensions.logstats.LogStats']\n",
            "2025-02-15 21:09:50 [scrapy.crawler] INFO: Overridden settings:\n",
            "{'BOT_NAME': 'capricieusescraper',\n",
            " 'FEED_EXPORT_ENCODING': 'utf-8',\n",
            " 'NEWSPIDER_MODULE': 'capricieusescraper.spiders',\n",
            " 'ROBOTSTXT_OBEY': True,\n",
            " 'SPIDER_MODULES': ['capricieusescraper.spiders'],\n",
            " 'TWISTED_REACTOR': 'twisted.internet.asyncioreactor.AsyncioSelectorReactor'}\n",
            "2025-02-15 21:09:50 [scrapy.middleware] INFO: Enabled downloader middlewares:\n",
            "['scrapy.downloadermiddlewares.offsite.OffsiteMiddleware',\n",
            " 'scrapy.downloadermiddlewares.robotstxt.RobotsTxtMiddleware',\n",
            " 'scrapy.downloadermiddlewares.httpauth.HttpAuthMiddleware',\n",
            " 'scrapy.downloadermiddlewares.downloadtimeout.DownloadTimeoutMiddleware',\n",
            " 'scrapy.downloadermiddlewares.defaultheaders.DefaultHeadersMiddleware',\n",
            " 'scrapy.downloadermiddlewares.useragent.UserAgentMiddleware',\n",
            " 'scrapy.downloadermiddlewares.retry.RetryMiddleware',\n",
            " 'scrapy.downloadermiddlewares.redirect.MetaRefreshMiddleware',\n",
            " 'scrapy.downloadermiddlewares.httpcompression.HttpCompressionMiddleware',\n",
            " 'scrapy.downloadermiddlewares.redirect.RedirectMiddleware',\n",
            " 'scrapy.downloadermiddlewares.cookies.CookiesMiddleware',\n",
            " 'scrapy.downloadermiddlewares.httpproxy.HttpProxyMiddleware',\n",
            " 'scrapy.downloadermiddlewares.stats.DownloaderStats']\n",
            "2025-02-15 21:09:50 [scrapy.middleware] INFO: Enabled spider middlewares:\n",
            "['scrapy.spidermiddlewares.httperror.HttpErrorMiddleware',\n",
            " 'scrapy.spidermiddlewares.referer.RefererMiddleware',\n",
            " 'scrapy.spidermiddlewares.urllength.UrlLengthMiddleware',\n",
            " 'scrapy.spidermiddlewares.depth.DepthMiddleware']\n",
            "2025-02-15 21:09:50 [scrapy.middleware] INFO: Enabled item pipelines:\n",
            "[]\n",
            "2025-02-15 21:09:50 [scrapy.core.engine] INFO: Spider opened\n",
            "2025-02-15 21:09:50 [scrapy.extensions.logstats] INFO: Crawled 0 pages (at 0 pages/min), scraped 0 items (at 0 items/min)\n",
            "2025-02-15 21:09:50 [scrapy.extensions.telnet] INFO: Telnet console listening on 127.0.0.1:6023\n",
            "2025-02-15 21:09:51 [scrapy.core.engine] DEBUG: Crawled (200) <GET http://www.capricieuse.tn/robots.txt> (referer: None)\n",
            "2025-02-15 21:09:53 [urllib3.connectionpool] DEBUG: Starting new HTTPS connection (1): publicsuffix.org:443\n",
            "2025-02-15 21:09:53 [urllib3.connectionpool] DEBUG: https://publicsuffix.org:443 \"GET /list/public_suffix_list.dat HTTP/1.1\" 200 86557\n",
            "2025-02-15 21:09:53 [scrapy.core.engine] DEBUG: Crawled (200) <GET http://www.capricieuse.tn/product-categories/Robes> (referer: None)\n",
            "2025-02-15 21:09:53 [scrapy.core.scraper] DEBUG: Scraped from <200 http://www.capricieuse.tn/product-categories/Robes>\n",
            "{'title': 'Robe Djean Bleu', 'price': '175.000Dt'}\n",
            "2025-02-15 21:09:53 [scrapy.core.scraper] DEBUG: Scraped from <200 http://www.capricieuse.tn/product-categories/Robes>\n",
            "{'title': 'Robe Djean Noir', 'price': '175.000Dt'}\n",
            "2025-02-15 21:09:53 [scrapy.core.scraper] DEBUG: Scraped from <200 http://www.capricieuse.tn/product-categories/Robes>\n",
            "{'title': 'Robe FLORA Rose Poudrée', 'price': '95.000Dt'}\n",
            "2025-02-15 21:09:53 [scrapy.core.scraper] DEBUG: Scraped from <200 http://www.capricieuse.tn/product-categories/Robes>\n",
            "{'title': 'Robe Riza Bleu Ciel', 'price': '120.000Dt'}\n",
            "2025-02-15 21:09:53 [scrapy.core.scraper] DEBUG: Scraped from <200 http://www.capricieuse.tn/product-categories/Robes>\n",
            "{'title': 'Robe Riza Noir', 'price': '120.000Dt'}\n",
            "2025-02-15 21:09:53 [scrapy.core.scraper] DEBUG: Scraped from <200 http://www.capricieuse.tn/product-categories/Robes>\n",
            "{'title': 'Robe Riza Vert Kiwi', 'price': '120.000Dt'}\n",
            "2025-02-15 21:09:53 [scrapy.core.scraper] DEBUG: Scraped from <200 http://www.capricieuse.tn/product-categories/Robes>\n",
            "{'title': 'Robe Brown', 'price': '95.000Dt'}\n",
            "2025-02-15 21:09:53 [scrapy.core.scraper] DEBUG: Scraped from <200 http://www.capricieuse.tn/product-categories/Robes>\n",
            "{'title': 'Robe Deux Pièces Sparkle Noir', 'price': '180.000Dt'}\n",
            "2025-02-15 21:09:53 [scrapy.core.scraper] DEBUG: Scraped from <200 http://www.capricieuse.tn/product-categories/Robes>\n",
            "{'title': 'Robe Deux Pièces Sparkle Rose Poudré', 'price': '180.000Dt'}\n",
            "2025-02-15 21:09:53 [scrapy.core.scraper] DEBUG: Scraped from <200 http://www.capricieuse.tn/product-categories/Robes>\n",
            "{'title': 'Robe Deux Pièces Sparkle Beige', 'price': '180.000Dt'}\n",
            "2025-02-15 21:09:53 [scrapy.core.scraper] DEBUG: Scraped from <200 http://www.capricieuse.tn/product-categories/Robes>\n",
            "{'title': 'Robe Deux Pièces Sparkle Bleu Pastel', 'price': '160.000Dt'}\n",
            "2025-02-15 21:09:53 [scrapy.core.scraper] DEBUG: Scraped from <200 http://www.capricieuse.tn/product-categories/Robes>\n",
            "{'title': 'Robe Laine Mira Noir', 'price': '130.000Dt'}\n",
            "2025-02-15 21:09:55 [scrapy.core.engine] DEBUG: Crawled (200) <GET http://www.capricieuse.tn/product-categories/Robes?categories%5B0%5D=1&page=2> (referer: http://www.capricieuse.tn/product-categories/Robes)\n",
            "2025-02-15 21:09:55 [scrapy.core.scraper] DEBUG: Scraped from <200 http://www.capricieuse.tn/product-categories/Robes?categories%5B0%5D=1&page=2>\n",
            "{'title': 'Robe Laine Mira Jaune Moutarde', 'price': '130.000Dt'}\n",
            "2025-02-15 21:09:55 [scrapy.core.scraper] DEBUG: Scraped from <200 http://www.capricieuse.tn/product-categories/Robes?categories%5B0%5D=1&page=2>\n",
            "{'title': 'Robe Deux Pièces Audrey Verte', 'price': '120.000Dt'}\n",
            "2025-02-15 21:09:55 [scrapy.core.scraper] DEBUG: Scraped from <200 http://www.capricieuse.tn/product-categories/Robes?categories%5B0%5D=1&page=2>\n",
            "{'title': 'Robe Rayée En Laine Blanc/Noir', 'price': '130.000Dt'}\n",
            "2025-02-15 21:09:55 [scrapy.core.scraper] DEBUG: Scraped from <200 http://www.capricieuse.tn/product-categories/Robes?categories%5B0%5D=1&page=2>\n",
            "{'title': 'Robe Deux Pieces Audrey Bleu', 'price': '120.000Dt'}\n",
            "2025-02-15 21:09:55 [scrapy.core.scraper] DEBUG: Scraped from <200 http://www.capricieuse.tn/product-categories/Robes?categories%5B0%5D=1&page=2>\n",
            "{'title': 'Robe Rosette', 'price': '130.000Dt'}\n",
            "2025-02-15 21:09:55 [scrapy.core.scraper] DEBUG: Scraped from <200 http://www.capricieuse.tn/product-categories/Robes?categories%5B0%5D=1&page=2>\n",
            "{'title': 'Robe Portfeuille Fleurie Jaune/Vert D’eau', 'price': '130.000Dt'}\n",
            "2025-02-15 21:09:55 [scrapy.core.scraper] DEBUG: Scraped from <200 http://www.capricieuse.tn/product-categories/Robes?categories%5B0%5D=1&page=2>\n",
            "{'title': 'Robe Portefeuille Orangé', 'price': '130.000Dt'}\n",
            "2025-02-15 21:09:55 [scrapy.core.scraper] DEBUG: Scraped from <200 http://www.capricieuse.tn/product-categories/Robes?categories%5B0%5D=1&page=2>\n",
            "{'title': 'Robe AFRO multicolore', 'price': '90.000Dt'}\n",
            "2025-02-15 21:09:55 [scrapy.core.scraper] DEBUG: Scraped from <200 http://www.capricieuse.tn/product-categories/Robes?categories%5B0%5D=1&page=2>\n",
            "{'title': 'Jebbah YACOUT Nude', 'price': '95.000Dt'}\n",
            "2025-02-15 21:09:55 [scrapy.core.scraper] DEBUG: Scraped from <200 http://www.capricieuse.tn/product-categories/Robes?categories%5B0%5D=1&page=2>\n",
            "{'title': 'Robe de prière KHADIJA Uni Vert D’eau', 'price': '85.000Dt'}\n",
            "2025-02-15 21:09:55 [scrapy.core.scraper] DEBUG: Scraped from <200 http://www.capricieuse.tn/product-categories/Robes?categories%5B0%5D=1&page=2>\n",
            "{'title': 'Robe de prière KHADIJA imprimé Bleu', 'price': '85.000Dt'}\n",
            "2025-02-15 21:09:55 [scrapy.core.scraper] DEBUG: Scraped from <200 http://www.capricieuse.tn/product-categories/Robes?categories%5B0%5D=1&page=2>\n",
            "{'title': 'Robe de prière KHADIJA imprimé Blanc', 'price': '85.000Dt'}\n",
            "2025-02-15 21:09:57 [scrapy.core.engine] DEBUG: Crawled (200) <GET http://www.capricieuse.tn/product-categories/Robes?categories%5B0%5D=1&page=3> (referer: http://www.capricieuse.tn/product-categories/Robes?categories%5B0%5D=1&page=2)\n",
            "2025-02-15 21:09:58 [scrapy.core.scraper] DEBUG: Scraped from <200 http://www.capricieuse.tn/product-categories/Robes?categories%5B0%5D=1&page=3>\n",
            "{'title': 'Jebbah EMNA', 'price': '120.000Dt'}\n",
            "2025-02-15 21:09:58 [scrapy.core.scraper] DEBUG: Scraped from <200 http://www.capricieuse.tn/product-categories/Robes?categories%5B0%5D=1&page=3>\n",
            "{'title': 'Jebbah KMAR Kiwi', 'price': '120.000Dt'}\n",
            "2025-02-15 21:09:58 [scrapy.core.scraper] DEBUG: Scraped from <200 http://www.capricieuse.tn/product-categories/Robes?categories%5B0%5D=1&page=3>\n",
            "{'title': 'Robe Soirée Orchid', 'price': '220.000Dt'}\n",
            "2025-02-15 21:09:58 [scrapy.core.scraper] DEBUG: Scraped from <200 http://www.capricieuse.tn/product-categories/Robes?categories%5B0%5D=1&page=3>\n",
            "{'title': 'Robe Patchwork WHITE', 'price': '140.000Dt'}\n",
            "2025-02-15 21:09:58 [scrapy.core.scraper] DEBUG: Scraped from <200 http://www.capricieuse.tn/product-categories/Robes?categories%5B0%5D=1&page=3>\n",
            "{'title': 'Jebbah KMAR rouge', 'price': '150.000Dt'}\n",
            "2025-02-15 21:09:58 [scrapy.core.scraper] DEBUG: Scraped from <200 http://www.capricieuse.tn/product-categories/Robes?categories%5B0%5D=1&page=3>\n",
            "{'title': 'Jebbah KMAR', 'price': '130.000Dt'}\n",
            "2025-02-15 21:09:58 [scrapy.core.scraper] DEBUG: Scraped from <200 http://www.capricieuse.tn/product-categories/Robes?categories%5B0%5D=1&page=3>\n",
            "{'title': 'Robe Emraude Champagne', 'price': '150.000Dt'}\n",
            "2025-02-15 21:09:58 [scrapy.core.scraper] DEBUG: Scraped from <200 http://www.capricieuse.tn/product-categories/Robes?categories%5B0%5D=1&page=3>\n",
            "{'title': 'Robe Soirée EMRAUD', 'price': '150.000Dt'}\n",
            "2025-02-15 21:09:58 [scrapy.core.scraper] DEBUG: Scraped from <200 http://www.capricieuse.tn/product-categories/Robes?categories%5B0%5D=1&page=3>\n",
            "{'title': 'Robe CARMEN', 'price': '120.000Dt'}\n",
            "2025-02-15 21:09:58 [scrapy.core.engine] INFO: Closing spider (finished)\n",
            "2025-02-15 21:09:58 [scrapy.extensions.feedexport] INFO: Stored json feed (33 items) in: capricieuse.json\n",
            "2025-02-15 21:09:58 [scrapy.statscollectors] INFO: Dumping Scrapy stats:\n",
            "{'downloader/request_bytes': 2629,\n",
            " 'downloader/request_count': 4,\n",
            " 'downloader/request_method_count/GET': 4,\n",
            " 'downloader/response_bytes': 370541,\n",
            " 'downloader/response_count': 4,\n",
            " 'downloader/response_status_count/200': 4,\n",
            " 'elapsed_time_seconds': 7.632331,\n",
            " 'feedexport/success_count/FileFeedStorage': 1,\n",
            " 'finish_reason': 'finished',\n",
            " 'finish_time': datetime.datetime(2025, 2, 15, 21, 9, 58, 117153, tzinfo=datetime.timezone.utc),\n",
            " 'item_scraped_count': 33,\n",
            " 'items_per_minute': None,\n",
            " 'log_count/DEBUG': 44,\n",
            " 'log_count/INFO': 11,\n",
            " 'memusage/max': 294690816,\n",
            " 'memusage/startup': 294690816,\n",
            " 'request_depth_max': 2,\n",
            " 'response_received_count': 4,\n",
            " 'responses_per_minute': None,\n",
            " 'robotstxt/request_count': 1,\n",
            " 'robotstxt/response_count': 1,\n",
            " 'robotstxt/response_status_count/200': 1,\n",
            " 'scheduler/dequeued': 3,\n",
            " 'scheduler/dequeued/memory': 3,\n",
            " 'scheduler/enqueued': 3,\n",
            " 'scheduler/enqueued/memory': 3,\n",
            " 'start_time': datetime.datetime(2025, 2, 15, 21, 9, 50, 484822, tzinfo=datetime.timezone.utc)}\n",
            "2025-02-15 21:09:58 [scrapy.core.engine] INFO: Spider closed (finished)\n"
          ]
        }
      ]
    },
    {
      "cell_type": "code",
      "source": [
        "!scrapy list\n"
      ],
      "metadata": {
        "id": "LOPyxMjhdMFy",
        "outputId": "a0642448-0f2a-4035-893a-3db1b151e6ac",
        "colab": {
          "base_uri": "https://localhost:8080/"
        }
      },
      "execution_count": null,
      "outputs": [
        {
          "output_type": "stream",
          "name": "stdout",
          "text": [
            "capricieuse\n"
          ]
        }
      ]
    }
  ]
}